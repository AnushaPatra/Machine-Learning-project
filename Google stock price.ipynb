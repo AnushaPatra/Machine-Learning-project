{
 "cells": [
  {
   "cell_type": "code",
   "execution_count": 1,
   "metadata": {},
   "outputs": [
    {
     "name": "stderr",
     "output_type": "stream",
     "text": [
      "C:\\Users\\anush\\anaconda3\\lib\\site-packages\\scipy\\__init__.py:155: UserWarning: A NumPy version >=1.18.5 and <1.25.0 is required for this version of SciPy (detected version 1.26.1\n",
      "  warnings.warn(f\"A NumPy version >={np_minversion} and <{np_maxversion}\"\n"
     ]
    }
   ],
   "source": [
    "import numpy as np \n",
    "import pandas as pd \n",
    "import matplotlib.pyplot as plt \n",
    "from sklearn.preprocessing import MinMaxScaler\n",
    "from keras.models import Sequential\n",
    "from keras.layers import Dense,LSTM,Dropout"
   ]
  },
  {
   "cell_type": "code",
   "execution_count": 2,
   "metadata": {},
   "outputs": [
    {
     "data": {
      "text/html": [
       "<div>\n",
       "<style scoped>\n",
       "    .dataframe tbody tr th:only-of-type {\n",
       "        vertical-align: middle;\n",
       "    }\n",
       "\n",
       "    .dataframe tbody tr th {\n",
       "        vertical-align: top;\n",
       "    }\n",
       "\n",
       "    .dataframe thead th {\n",
       "        text-align: right;\n",
       "    }\n",
       "</style>\n",
       "<table border=\"1\" class=\"dataframe\">\n",
       "  <thead>\n",
       "    <tr style=\"text-align: right;\">\n",
       "      <th></th>\n",
       "      <th>Date</th>\n",
       "      <th>Open</th>\n",
       "      <th>High</th>\n",
       "      <th>Low</th>\n",
       "      <th>Close</th>\n",
       "      <th>Volume</th>\n",
       "    </tr>\n",
       "  </thead>\n",
       "  <tbody>\n",
       "    <tr>\n",
       "      <th>0</th>\n",
       "      <td>1/3/2012</td>\n",
       "      <td>325.25</td>\n",
       "      <td>332.83</td>\n",
       "      <td>324.97</td>\n",
       "      <td>663.59</td>\n",
       "      <td>7,380,500</td>\n",
       "    </tr>\n",
       "    <tr>\n",
       "      <th>1</th>\n",
       "      <td>1/4/2012</td>\n",
       "      <td>331.27</td>\n",
       "      <td>333.87</td>\n",
       "      <td>329.08</td>\n",
       "      <td>666.45</td>\n",
       "      <td>5,749,400</td>\n",
       "    </tr>\n",
       "    <tr>\n",
       "      <th>2</th>\n",
       "      <td>1/5/2012</td>\n",
       "      <td>329.83</td>\n",
       "      <td>330.75</td>\n",
       "      <td>326.89</td>\n",
       "      <td>657.21</td>\n",
       "      <td>6,590,300</td>\n",
       "    </tr>\n",
       "    <tr>\n",
       "      <th>3</th>\n",
       "      <td>1/6/2012</td>\n",
       "      <td>328.34</td>\n",
       "      <td>328.77</td>\n",
       "      <td>323.68</td>\n",
       "      <td>648.24</td>\n",
       "      <td>5,405,900</td>\n",
       "    </tr>\n",
       "    <tr>\n",
       "      <th>4</th>\n",
       "      <td>1/9/2012</td>\n",
       "      <td>322.04</td>\n",
       "      <td>322.29</td>\n",
       "      <td>309.46</td>\n",
       "      <td>620.76</td>\n",
       "      <td>11,688,800</td>\n",
       "    </tr>\n",
       "  </tbody>\n",
       "</table>\n",
       "</div>"
      ],
      "text/plain": [
       "       Date    Open    High     Low   Close      Volume\n",
       "0  1/3/2012  325.25  332.83  324.97  663.59   7,380,500\n",
       "1  1/4/2012  331.27  333.87  329.08  666.45   5,749,400\n",
       "2  1/5/2012  329.83  330.75  326.89  657.21   6,590,300\n",
       "3  1/6/2012  328.34  328.77  323.68  648.24   5,405,900\n",
       "4  1/9/2012  322.04  322.29  309.46  620.76  11,688,800"
      ]
     },
     "execution_count": 2,
     "metadata": {},
     "output_type": "execute_result"
    }
   ],
   "source": [
    "data = pd.read_csv(r\"C:\\Users\\anush\\OneDrive\\Desktop\\ML Project\\Google_train_data.csv\")\n",
    "data.head()"
   ]
  },
  {
   "cell_type": "code",
   "execution_count": 3,
   "metadata": {},
   "outputs": [
    {
     "name": "stdout",
     "output_type": "stream",
     "text": [
      "<class 'pandas.core.frame.DataFrame'>\n",
      "RangeIndex: 1258 entries, 0 to 1257\n",
      "Data columns (total 6 columns):\n",
      " #   Column  Non-Null Count  Dtype  \n",
      "---  ------  --------------  -----  \n",
      " 0   Date    1258 non-null   object \n",
      " 1   Open    1258 non-null   float64\n",
      " 2   High    1258 non-null   float64\n",
      " 3   Low     1258 non-null   float64\n",
      " 4   Close   1258 non-null   object \n",
      " 5   Volume  1258 non-null   object \n",
      "dtypes: float64(3), object(3)\n",
      "memory usage: 59.1+ KB\n"
     ]
    }
   ],
   "source": [
    "data.info()"
   ]
  },
  {
   "cell_type": "code",
   "execution_count": 4,
   "metadata": {},
   "outputs": [],
   "source": [
    "data[\"Close\"]=pd.to_numeric(data.Close,errors='coerce')\n",
    "data = data.dropna()\n",
    "trainData = data.iloc[:,4:5].values"
   ]
  },
  {
   "cell_type": "code",
   "execution_count": 5,
   "metadata": {},
   "outputs": [
    {
     "name": "stdout",
     "output_type": "stream",
     "text": [
      "<class 'pandas.core.frame.DataFrame'>\n",
      "Int64Index: 1149 entries, 0 to 1257\n",
      "Data columns (total 6 columns):\n",
      " #   Column  Non-Null Count  Dtype  \n",
      "---  ------  --------------  -----  \n",
      " 0   Date    1149 non-null   object \n",
      " 1   Open    1149 non-null   float64\n",
      " 2   High    1149 non-null   float64\n",
      " 3   Low     1149 non-null   float64\n",
      " 4   Close   1149 non-null   float64\n",
      " 5   Volume  1149 non-null   object \n",
      "dtypes: float64(4), object(2)\n",
      "memory usage: 62.8+ KB\n"
     ]
    }
   ],
   "source": [
    "data.info()"
   ]
  },
  {
   "cell_type": "code",
   "execution_count": 6,
   "metadata": {},
   "outputs": [
    {
     "data": {
      "text/plain": [
       "(1149, 1)"
      ]
     },
     "execution_count": 6,
     "metadata": {},
     "output_type": "execute_result"
    }
   ],
   "source": [
    "sc = MinMaxScaler(feature_range=(0,1))\n",
    "trainData = sc.fit_transform(trainData)\n",
    "trainData.shape"
   ]
  },
  {
   "cell_type": "code",
   "execution_count": 7,
   "metadata": {},
   "outputs": [],
   "source": [
    "X_train = []\n",
    "y_train = []\n",
    "\n",
    "for i in range (60,1149): #60 : timestep // 1149 : length of the data\n",
    "    X_train.append(trainData[i-60:i,0]) \n",
    "    y_train.append(trainData[i,0])\n",
    "\n",
    "X_train,y_train = np.array(X_train),np.array(y_train)"
   ]
  },
  {
   "cell_type": "code",
   "execution_count": 8,
   "metadata": {},
   "outputs": [
    {
     "data": {
      "text/plain": [
       "(1089, 60, 1)"
      ]
     },
     "execution_count": 8,
     "metadata": {},
     "output_type": "execute_result"
    }
   ],
   "source": [
    "X_train = np.reshape(X_train,(X_train.shape[0],X_train.shape[1],1)) #adding the batch_size axis\n",
    "X_train.shape"
   ]
  },
  {
   "cell_type": "code",
   "execution_count": 9,
   "metadata": {},
   "outputs": [],
   "source": [
    "model = Sequential()\n",
    "\n",
    "model.add(LSTM(units=100, return_sequences = True, input_shape =(X_train.shape[1],1)))\n",
    "model.add(Dropout(0.2))\n",
    "\n",
    "model.add(LSTM(units=100, return_sequences = True))\n",
    "model.add(Dropout(0.2))\n",
    "\n",
    "model.add(LSTM(units=100, return_sequences = True))\n",
    "model.add(Dropout(0.2))\n",
    "\n",
    "model.add(LSTM(units=100, return_sequences = False))\n",
    "model.add(Dropout(0.2))\n",
    "\n",
    "model.add(Dense(units =1))\n",
    "model.compile(optimizer='adam',loss=\"mean_squared_error\")"
   ]
  },
  {
   "cell_type": "code",
   "execution_count": 10,
   "metadata": {},
   "outputs": [
    {
     "name": "stdout",
     "output_type": "stream",
     "text": [
      "Epoch 1/20\n",
      "35/35 - 10s - loss: 0.0356 - 10s/epoch - 274ms/step\n",
      "Epoch 2/20\n",
      "35/35 - 5s - loss: 0.0136 - 5s/epoch - 137ms/step\n",
      "Epoch 3/20\n",
      "35/35 - 5s - loss: 0.0084 - 5s/epoch - 149ms/step\n",
      "Epoch 4/20\n",
      "35/35 - 5s - loss: 0.0116 - 5s/epoch - 149ms/step\n",
      "Epoch 5/20\n",
      "35/35 - 6s - loss: 0.0092 - 6s/epoch - 181ms/step\n",
      "Epoch 6/20\n",
      "35/35 - 6s - loss: 0.0073 - 6s/epoch - 176ms/step\n",
      "Epoch 7/20\n",
      "35/35 - 5s - loss: 0.0082 - 5s/epoch - 155ms/step\n",
      "Epoch 8/20\n",
      "35/35 - 5s - loss: 0.0074 - 5s/epoch - 139ms/step\n",
      "Epoch 9/20\n",
      "35/35 - 5s - loss: 0.0082 - 5s/epoch - 149ms/step\n",
      "Epoch 10/20\n",
      "35/35 - 5s - loss: 0.0059 - 5s/epoch - 154ms/step\n",
      "Epoch 11/20\n",
      "35/35 - 6s - loss: 0.0060 - 6s/epoch - 159ms/step\n",
      "Epoch 12/20\n",
      "35/35 - 6s - loss: 0.0061 - 6s/epoch - 168ms/step\n",
      "Epoch 13/20\n",
      "35/35 - 6s - loss: 0.0057 - 6s/epoch - 174ms/step\n",
      "Epoch 14/20\n",
      "35/35 - 6s - loss: 0.0052 - 6s/epoch - 161ms/step\n",
      "Epoch 15/20\n",
      "35/35 - 6s - loss: 0.0052 - 6s/epoch - 163ms/step\n",
      "Epoch 16/20\n",
      "35/35 - 6s - loss: 0.0058 - 6s/epoch - 164ms/step\n",
      "Epoch 17/20\n",
      "35/35 - 6s - loss: 0.0050 - 6s/epoch - 162ms/step\n",
      "Epoch 18/20\n",
      "35/35 - 6s - loss: 0.0044 - 6s/epoch - 161ms/step\n",
      "Epoch 19/20\n",
      "35/35 - 6s - loss: 0.0049 - 6s/epoch - 163ms/step\n",
      "Epoch 20/20\n",
      "35/35 - 6s - loss: 0.0046 - 6s/epoch - 162ms/step\n"
     ]
    }
   ],
   "source": [
    "hist = model.fit(X_train, y_train, epochs = 20, batch_size = 32, verbose=2)"
   ]
  },
  {
   "cell_type": "code",
   "execution_count": 11,
   "metadata": {},
   "outputs": [
    {
     "data": {
      "image/png": "[encoded data removed]",
      "text/plain": [
       "<Figure size 640x480 with 1 Axes>"
      ]
     },
     "metadata": {},
     "output_type": "display_data"
    }
   ],
   "source": [
    "plt.plot(hist.history['loss'])\n",
    "plt.title('Training model loss')\n",
    "plt.ylabel('loss')\n",
    "plt.xlabel('epoch')\n",
    "plt.legend(['train'], loc='upper left')\n",
    "plt.show()"
   ]
  },
  {
   "cell_type": "code",
   "execution_count": 13,
   "metadata": {},
   "outputs": [
    {
     "data": {
      "text/plain": [
       "(192, 60, 1)"
      ]
     },
     "execution_count": 13,
     "metadata": {},
     "output_type": "execute_result"
    }
   ],
   "source": [
    "testData = pd.read_csv(r\"C:\\Users\\anush\\OneDrive\\Desktop\\ML Project\\Google_test_data.csv\")\n",
    "testData[\"Close\"]=pd.to_numeric(testData.Close,errors='coerce')\n",
    "testData = testData.dropna()\n",
    "testData = testData.iloc[:,4:5]\n",
    "y_test = testData.iloc[60:,0:].values \n",
    "#input array for the model\n",
    "inputClosing = testData.iloc[:,0:].values \n",
    "inputClosing_scaled = sc.transform(inputClosing)\n",
    "inputClosing_scaled.shape\n",
    "X_test = []\n",
    "length = len(testData)\n",
    "timestep = 60\n",
    "for i in range(timestep,length):  \n",
    "    X_test.append(inputClosing_scaled[i-timestep:i,0])\n",
    "X_test = np.array(X_test)\n",
    "X_test = np.reshape(X_test,(X_test.shape[0],X_test.shape[1],1))\n",
    "X_test.shape"
   ]
  },
  {
   "cell_type": "code",
   "execution_count": 14,
   "metadata": {},
   "outputs": [
    {
     "name": "stdout",
     "output_type": "stream",
     "text": [
      "6/6 [==============================] - 2s 43ms/step\n"
     ]
    },
    {
     "data": {
      "text/plain": [
       "array([[1.1708035],\n",
       "       [1.1752765],\n",
       "       [1.1874175],\n",
       "       [1.2050724],\n",
       "       [1.2191856],\n",
       "       [1.2187958],\n",
       "       [1.2038723],\n",
       "       [1.182964 ],\n",
       "       [1.168624 ],\n",
       "       [1.1642783],\n",
       "       [1.1582737],\n",
       "       [1.1481905],\n",
       "       [1.1388483],\n",
       "       [1.1302207],\n",
       "       [1.128666 ],\n",
       "       [1.1339988],\n",
       "       [1.1530117],\n",
       "       [1.1829159],\n",
       "       [1.2169492],\n",
       "       [1.2499788],\n",
       "       [1.2627354],\n",
       "       [1.256895 ],\n",
       "       [1.232465 ],\n",
       "       [1.1987032],\n",
       "       [1.1686323],\n",
       "       [1.1519251],\n",
       "       [1.1492342],\n",
       "       [1.1517663],\n",
       "       [1.1481237],\n",
       "       [1.1395485],\n",
       "       [1.1286075],\n",
       "       [1.1154234],\n",
       "       [1.0954627],\n",
       "       [1.0705342],\n",
       "       [1.0598996],\n",
       "       [1.069918 ],\n",
       "       [1.0939598],\n",
       "       [1.1217124],\n",
       "       [1.1473794],\n",
       "       [1.1600609],\n",
       "       [1.170788 ],\n",
       "       [1.183481 ],\n",
       "       [1.1988587],\n",
       "       [1.213619 ],\n",
       "       [1.2234182],\n",
       "       [1.2235368],\n",
       "       [1.2120191],\n",
       "       [1.2008648],\n",
       "       [1.1968608],\n",
       "       [1.202456 ],\n",
       "       [1.2165482],\n",
       "       [1.2273624],\n",
       "       [1.231155 ],\n",
       "       [1.2283301],\n",
       "       [1.2258699],\n",
       "       [1.2215316],\n",
       "       [1.2128274],\n",
       "       [1.2080986],\n",
       "       [1.216794 ],\n",
       "       [1.2358427],\n",
       "       [1.2634875],\n",
       "       [1.2963405],\n",
       "       [1.3194437],\n",
       "       [1.3229179],\n",
       "       [1.308454 ],\n",
       "       [1.2845466],\n",
       "       [1.2667451],\n",
       "       [1.2603285],\n",
       "       [1.2640929],\n",
       "       [1.2715094],\n",
       "       [1.2793162],\n",
       "       [1.2843654],\n",
       "       [1.2817069],\n",
       "       [1.2758832],\n",
       "       [1.2703763],\n",
       "       [1.2684085],\n",
       "       [1.2704045],\n",
       "       [1.2758687],\n",
       "       [1.2881926],\n",
       "       [1.3067751],\n",
       "       [1.3305616],\n",
       "       [1.3532377],\n",
       "       [1.3658361],\n",
       "       [1.3664173],\n",
       "       [1.3671093],\n",
       "       [1.3767204],\n",
       "       [1.3935561],\n",
       "       [1.4094472],\n",
       "       [1.4189261],\n",
       "       [1.4208379],\n",
       "       [1.4210196],\n",
       "       [1.4288094],\n",
       "       [1.4455364],\n",
       "       [1.4583719],\n",
       "       [1.4583704],\n",
       "       [1.4446664],\n",
       "       [1.4205445],\n",
       "       [1.3927374],\n",
       "       [1.3698149],\n",
       "       [1.3618712],\n",
       "       [1.37022  ],\n",
       "       [1.3902258],\n",
       "       [1.4163009],\n",
       "       [1.4390355],\n",
       "       [1.4524524],\n",
       "       [1.4542395],\n",
       "       [1.4487886],\n",
       "       [1.4414219],\n",
       "       [1.4389808],\n",
       "       [1.4430219],\n",
       "       [1.4525973],\n",
       "       [1.4665296],\n",
       "       [1.4808731],\n",
       "       [1.4955239],\n",
       "       [1.5126822],\n",
       "       [1.5270361],\n",
       "       [1.5373743],\n",
       "       [1.5454652],\n",
       "       [1.5556443],\n",
       "       [1.5374403],\n",
       "       [1.4872613],\n",
       "       [1.4217882],\n",
       "       [1.3676687],\n",
       "       [1.3384156],\n",
       "       [1.3300097],\n",
       "       [1.3333075],\n",
       "       [1.3405943],\n",
       "       [1.3485506],\n",
       "       [1.3471766],\n",
       "       [1.3338156],\n",
       "       [1.3255523],\n",
       "       [1.332449 ],\n",
       "       [1.3476348],\n",
       "       [1.3571877],\n",
       "       [1.3596836],\n",
       "       [1.3577324],\n",
       "       [1.3513415],\n",
       "       [1.3407222],\n",
       "       [1.3288031],\n",
       "       [1.3139694],\n",
       "       [1.298779 ],\n",
       "       [1.2826853],\n",
       "       [1.2508059],\n",
       "       [1.2111822],\n",
       "       [1.1723626],\n",
       "       [1.1425886],\n",
       "       [1.1308573],\n",
       "       [1.1401575],\n",
       "       [1.164002 ],\n",
       "       [1.1923618],\n",
       "       [1.2198919],\n",
       "       [1.2413573],\n",
       "       [1.2560987],\n",
       "       [1.2670689],\n",
       "       [1.2747593],\n",
       "       [1.281223 ],\n",
       "       [1.2890415],\n",
       "       [1.2957314],\n",
       "       [1.2919589],\n",
       "       [1.2761128],\n",
       "       [1.2526569],\n",
       "       [1.2297676],\n",
       "       [1.2171056],\n",
       "       [1.219702 ],\n",
       "       [1.2367117],\n",
       "       [1.2636167],\n",
       "       [1.2884705],\n",
       "       [1.3065621],\n",
       "       [1.3205161],\n",
       "       [1.332006 ],\n",
       "       [1.340816 ],\n",
       "       [1.3475758],\n",
       "       [1.3527932],\n",
       "       [1.3542002],\n",
       "       [1.3516678],\n",
       "       [1.3423071],\n",
       "       [1.3304328],\n",
       "       [1.3221132],\n",
       "       [1.3171227],\n",
       "       [1.3132017],\n",
       "       [1.3407044],\n",
       "       [1.3949931],\n",
       "       [1.453035 ],\n",
       "       [1.4942245],\n",
       "       [1.5094686],\n",
       "       [1.4985077],\n",
       "       [1.4599121],\n",
       "       [1.4124634],\n",
       "       [1.3726987],\n",
       "       [1.3567348],\n",
       "       [1.3595088],\n",
       "       [1.3686129]], dtype=float32)"
      ]
     },
     "execution_count": 14,
     "metadata": {},
     "output_type": "execute_result"
    }
   ],
   "source": [
    "y_pred = model.predict(X_test)\n",
    "y_pred"
   ]
  },
  {
   "cell_type": "code",
   "execution_count": 15,
   "metadata": {},
   "outputs": [],
   "source": [
    "predicted_price = sc.inverse_transform(y_pred)"
   ]
  },
  {
   "cell_type": "code",
   "execution_count": 16,
   "metadata": {},
   "outputs": [
    {
     "data": {
      "image/png": "[encoded data removed]",
      "text/plain": [
       "<Figure size 640x480 with 1 Axes>"
      ]
     },
     "metadata": {},
     "output_type": "display_data"
    }
   ],
   "source": [
    "plt.plot(y_test, color = 'red', label = 'Actual Stock Price')\n",
    "plt.plot(predicted_price, color = 'green', label = 'Predicted Stock Price')\n",
    "plt.title('Google stock price prediction')\n",
    "plt.xlabel('Time')\n",
    "plt.ylabel('Stock Price')\n",
    "plt.legend()\n",
    "plt.show()"
   ]
  }
 ],
 "metadata": {
  "kernelspec": {
   "display_name": "Python 3 (ipykernel)",
   "language": "python",
   "name": "python3"
  },
  "language_info": {
   "codemirror_mode": {
    "name": "ipython",
    "version": 3
   },
   "file_extension": ".py",
   "mimetype": "text/x-python",
   "name": "python",
   "nbconvert_exporter": "python",
   "pygments_lexer": "ipython3",
   "version": "3.9.13"
  }
 },
 "nbformat": 4,
 "nbformat_minor": 4
}
